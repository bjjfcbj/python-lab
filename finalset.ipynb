{
 "cells": [
  {
   "cell_type": "code",
   "execution_count": 1,
   "metadata": {
    "collapsed": true
   },
   "outputs": [],
   "source": [
    "import sys\n",
    "\n",
    "import torch\n",
    "import numpy as np\n",
    "from kdd_oh_set import ohkdd\n",
    "import net_hook"
   ]
  },
  {
   "cell_type": "code",
   "execution_count": null,
   "outputs": [],
   "source": [
    "%%time\n",
    "train_data = ohkdd(test_size=0,data_path=\"kdd99_oh_corrected.npy\")\n",
    "net_1key = torch.load(\"./aenet_2key\", map_location='cpu')\n",
    "net_2key = torch.load(\"./aenet_5key\", map_location='cpu')\n",
    "hook1 = net_hook.get_fea_by_hook(net_1key.keylayer())\n",
    "hook2 = net_hook.get_fea_by_hook(net_2key.keylayer())\n",
    "data = torch.Tensor(np.array([np.array(x.cpu()) for x, _ in train_data]))\n",
    "print(data.shape)"
   ],
   "metadata": {
    "collapsed": false,
    "pycharm": {
     "name": "#%%\n"
    }
   }
  },
  {
   "cell_type": "code",
   "execution_count": null,
   "outputs": [],
   "source": [
    "%%time\n",
    "output1 = net_1key(data)\n",
    "output2 = net_2key(data)\n",
    "print(output1.shape, output2.shape)\n",
    "print(hook1.fea.shape, hook2.fea.shape)"
   ],
   "metadata": {
    "collapsed": false,
    "pycharm": {
     "name": "#%%\n"
    }
   }
  },
  {
   "cell_type": "code",
   "execution_count": null,
   "outputs": [],
   "source": [
    "final_train = torch.cat([torch.squeeze(data),torch.squeeze(output1),torch.squeeze(hook1.fea, dim=1),torch.squeeze(output2),torch.squeeze(hook2.fea)],dim=1)\n",
    "np.save(\"final_test\",final_train.detach().numpy())\n",
    "print(final_train.shape)"
   ],
   "metadata": {
    "collapsed": false,
    "pycharm": {
     "name": "#%%\n"
    }
   }
  },
  {
   "cell_type": "code",
   "execution_count": 2,
   "outputs": [
    {
     "name": "stdout",
     "output_type": "stream",
     "text": [
      "torch.Size([311029, 1, 126])\n",
      "Wall time: 7.6 s\n"
     ]
    }
   ],
   "source": [
    "%%time\n",
    "train_data = ohkdd(test_size=0,data_path=\"kdd99_oh.npy\")\n",
    "data = torch.Tensor(np.array([np.array(x.cpu()) for x, _ in train_data]))\n",
    "print(data.shape)"
   ],
   "metadata": {
    "collapsed": false,
    "pycharm": {
     "name": "#%%\n"
    }
   }
  },
  {
   "cell_type": "code",
   "execution_count": 3,
   "outputs": [
    {
     "name": "stdout",
     "output_type": "stream",
     "text": [
      "torch.Size([311029, 1, 126]) torch.Size([311029, 1, 126])\n",
      "torch.Size([311029, 1, 2]) torch.Size([311029, 1, 5])\n",
      "Wall time: 292 ms\n"
     ]
    }
   ],
   "source": [
    "%%time\n",
    "output1 = net_1key(data)\n",
    "output2 = net_2key(data)\n",
    "print(output1.shape, output2.shape)\n",
    "print(hook1.fea.shape, hook2.fea.shape)"
   ],
   "metadata": {
    "collapsed": false,
    "pycharm": {
     "name": "#%%\n"
    }
   }
  },
  {
   "cell_type": "code",
   "execution_count": 4,
   "outputs": [
    {
     "name": "stdout",
     "output_type": "stream",
     "text": [
      "torch.Size([311029, 385])\n"
     ]
    }
   ],
   "source": [
    "final_train = torch.cat([torch.squeeze(data),torch.squeeze(output1),torch.squeeze(hook1.fea, dim=1),torch.squeeze(output2),torch.squeeze(hook2.fea)],dim=1)\n",
    "np.save(\"final_train\",final_train.detach().numpy())\n",
    "print(final_train.shape)"
   ],
   "metadata": {
    "collapsed": false,
    "pycharm": {
     "name": "#%%\n"
    }
   }
  },
  {
   "cell_type": "code",
   "execution_count": 5,
   "outputs": [
    {
     "name": "stdout",
     "output_type": "stream",
     "text": [
      "(1405329, 385)\n",
      "(311029, 385)\n"
     ]
    }
   ],
   "source": [
    "train=np.load('final_train.npy')\n",
    "test=np.load('final_test.npy')\n",
    "print(train.shape)\n",
    "print(test.shape)"
   ],
   "metadata": {
    "collapsed": false,
    "pycharm": {
     "name": "#%%\n"
    }
   }
  }
 ],
 "metadata": {
  "kernelspec": {
   "name": "pycharm-3cdc4dc0",
   "language": "python",
   "display_name": "PyCharm (pylab)"
  },
  "language_info": {
   "codemirror_mode": {
    "name": "ipython",
    "version": 2
   },
   "file_extension": ".py",
   "mimetype": "text/x-python",
   "name": "python",
   "nbconvert_exporter": "python",
   "pygments_lexer": "ipython2",
   "version": "2.7.6"
  }
 },
 "nbformat": 4,
 "nbformat_minor": 0
}