{
 "cells": [
  {
   "cell_type": "code",
   "execution_count": 1,
   "metadata": {
    "collapsed": true
   },
   "outputs": [],
   "source": [
    "import torch\n",
    "from torch.utils.data import DataLoader\n",
    "import matplotlib.pyplot as plt\n",
    "from kdd_oh_set import ohkdd\n",
    "import net_hook"
   ]
  },
  {
   "cell_type": "code",
   "execution_count": 2,
   "outputs": [
    {
     "name": "stdout",
     "output_type": "stream",
     "text": [
      "1124263\n"
     ]
    }
   ],
   "source": [
    "use_gpu = False\n",
    "train_data = ohkdd(use_gpu=use_gpu)\n",
    "dataloader = DataLoader(train_data, batch_size=1, shuffle=True, drop_last=True)\n",
    "print(len(train_data))"
   ],
   "metadata": {
    "collapsed": false,
    "pycharm": {
     "name": "#%%\n"
    }
   }
  },
  {
   "cell_type": "code",
   "execution_count": 3,
   "outputs": [],
   "source": [
    "color={'normal':'b','abnormal':'r','dos':'r','probe':'m','r2l':'g','u2r':'y','marker':'.'}\n",
    "\n",
    "def fig2d(net, hook, dis, num):  #模型，钩子，距离函数\n",
    "    plt.figure(\"aenet\")\n",
    "    for i, (x, y) in enumerate(dataloader):\n",
    "        if i == num:\n",
    "            break\n",
    "        x = torch.autograd.Variable(x)\n",
    "        output = net(x)\n",
    "        # print(x.shape,output.shape)\n",
    "        cossim = dis(x, output).detach().numpy()\n",
    "        fea = hook.fea.detach().numpy()\n",
    "        # print(fea.shape,cossim.shape)\n",
    "        if y == 1:\n",
    "            plt.plot(fea[0][0], cossim, color['normal']+color['marker'])\n",
    "        else:\n",
    "            plt.plot(fea[0][0], cossim, color['abnormal']+color['marker'])\n",
    "    plt.xlabel(\"reduce\")\n",
    "    plt.ylabel(\"distance\")\n",
    "\n",
    "    # plt.plot([], [], \"b.\", label='normal')\n",
    "    # plt.plot([], [], \"r.\", label='abnormal')\n",
    "    # plt.legend()\n",
    "\n",
    "    plt.savefig(\"./{}_1key.svg\".format(dis), format=\"svg\")\n",
    "    plt.show()\n",
    "\n",
    "\n",
    "def fig3d(net, hook, dis, num):  #模型，钩子，距离函数\n",
    "    ax = plt.axes(projection='3d')\n",
    "    for i, (x, y) in enumerate(dataloader):\n",
    "        if i == num:\n",
    "            break\n",
    "        x = torch.autograd.Variable(x)\n",
    "        output = net(x)\n",
    "        cossim = dis(x, output).detach().numpy()\n",
    "        fea = hook.fea.detach().numpy()\n",
    "        # print(fea.shape,cossim.shape)\n",
    "        if y == 0:\n",
    "            ax.scatter(*fea[0][0], cossim, c=color['normal'], marker=color['marker'])\n",
    "        else:\n",
    "            ax.scatter(*fea[0][0], cossim, c=color['abnormal'], marker=color['marker'])\n",
    "\n",
    "    ax.set_xlabel(\"key1\")\n",
    "    ax.set_ylabel(\"key2\")\n",
    "    ax.set_zlabel(\"dis\")\n",
    "    ax.set_title(\"ae_2key\")\n",
    "\n",
    "    # ax.scatter([], [], [], c='b', marker='.', label='normal')\n",
    "    # ax.scatter([], [], [], c='r', marker='.', label='abnormal')\n",
    "    # ax.legend()\n",
    "\n",
    "    plt.savefig(\"./{}_2key.svg\".format(dis), format=\"svg\")\n",
    "    plt.show()\n",
    "\n",
    "\n",
    "def plt_from_net(net_path: str, dis, demension, num=50):\n",
    "    net = torch.load(net_path)\n",
    "    hook = net_hook.get_fea_by_hook(net.keylayer())\n",
    "    print(\"read net from: {}\\nhook layer: {}\".format(net_path, net.keylayer()))\n",
    "    if not use_gpu:\n",
    "        net = net.cpu()\n",
    "    if demension == 2:\n",
    "        fig2d(net, hook, dis, num)\n",
    "    elif demension == 3:\n",
    "        fig3d(net, hook, dis, num)\n",
    "    else:\n",
    "        raise UserWarning(\"demension should in [2,3]\")"
   ],
   "metadata": {
    "collapsed": false,
    "pycharm": {
     "name": "#%%\n"
    }
   }
  },
  {
   "cell_type": "code",
   "execution_count": 4,
   "outputs": [
    {
     "name": "stdout",
     "output_type": "stream",
     "text": [
      "read net from: aenet_1key\n",
      "hook layer: Sequential(\n",
      "  (0): Linear(in_features=40, out_features=1, bias=True)\n",
      "  (1): Sigmoid()\n",
      ")\n"
     ]
    },
    {
     "data": {
      "text/plain": "<Figure size 432x288 with 1 Axes>",
      "image/png": "[encoded data removed]"
     },
     "metadata": {
      "needs_background": "light"
     },
     "output_type": "display_data"
    }
   ],
   "source": [
    "plt_from_net(\"aenet_1key\", torch.nn.MSELoss(), 2, 500)\n",
    "# plt_from_net(\"aenet_2key\", torch.nn.MSELoss(), 3, 500)"
   ],
   "metadata": {
    "collapsed": false,
    "pycharm": {
     "name": "#%%\n"
    }
   }
  }
 ],
 "metadata": {
  "kernelspec": {
   "name": "pycharm-3cdc4dc0",
   "language": "python",
   "display_name": "PyCharm (pylab)"
  },
  "language_info": {
   "codemirror_mode": {
    "name": "ipython",
    "version": 2
   },
   "file_extension": ".py",
   "mimetype": "text/x-python",
   "name": "python",
   "nbconvert_exporter": "python",
   "pygments_lexer": "ipython2",
   "version": "2.7.6"
  }
 },
 "nbformat": 4,
 "nbformat_minor": 0
}