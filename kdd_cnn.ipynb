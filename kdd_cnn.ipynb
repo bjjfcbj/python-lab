{
 "cells": [
  {
   "cell_type": "code",
   "execution_count": 1,
   "outputs": [],
   "source": [
    "import torch\n",
    "from torch.utils.data import DataLoader\n",
    "from torch.autograd import Variable\n",
    "import matplotlib.pyplot as plt\n",
    "from kdd_oh_set import ohkdd\n",
    "from cnn_model import CNet"
   ],
   "metadata": {
    "collapsed": false,
    "pycharm": {
     "name": "#%%\n"
    }
   }
  },
  {
   "cell_type": "code",
   "execution_count": 2,
   "outputs": [
    {
     "name": "stdout",
     "output_type": "stream",
     "text": [
      "use_gpu:True\n",
      "Wall time: 50.9 s\n"
     ]
    }
   ],
   "source": [
    "# %%time\n",
    "use_gpu = torch.cuda.is_available()\n",
    "train_data = ohkdd(test_size=0, use_gpu=use_gpu, data_path='final_train.npy', return_type=2)\n",
    "# valid_data = train_data.get_valid()\n",
    "test_data = ohkdd(test_size=0, use_gpu=use_gpu, data_path='final_test.npy',\n",
    "                  tar_path='kdd99_oh_label_corrected.npy', return_type=2)\n",
    "\n",
    "train_loader = DataLoader(train_data, batch_size=32, shuffle=True, drop_last=True)\n",
    "# valid_loader = DataLoader(valid_data, batch_size=100, shuffle=True, drop_last=True)\n",
    "test_loader = DataLoader(test_data, batch_size=200, shuffle=True, drop_last=True)\n",
    "\n",
    "print(\"use_gpu:{}\".format(use_gpu))"
   ],
   "metadata": {
    "collapsed": false,
    "pycharm": {
     "name": "#%%\n"
    }
   }
  },
  {
   "cell_type": "code",
   "execution_count": 3,
   "outputs": [],
   "source": [
    "net = CNet()\n",
    "loss_func = torch.nn.CrossEntropyLoss()\n",
    "opt = torch.optim.Adam(net.parameters(), lr=1e-4)"
   ],
   "metadata": {
    "collapsed": false,
    "pycharm": {
     "name": "#%%\n"
    }
   }
  },
  {
   "cell_type": "code",
   "execution_count": 4,
   "outputs": [],
   "source": [
    "def accuracy(net, input_loader):\n",
    "    tp = tn = fp = fn = 0\n",
    "    for x, y in input_loader:\n",
    "        batch_x = Variable(x)\n",
    "        batch_y = Variable(y)\n",
    "        out = net(batch_x)\n",
    "        res = torch.max(out, 1)[1]\n",
    "\n",
    "        for i in range(0, len(batch_y)):\n",
    "            if res[i] == batch_y[i]:\n",
    "                if res[i] == 1:\n",
    "                    tp += 1\n",
    "                else:\n",
    "                    tn += 1\n",
    "            else:\n",
    "                if batch_y[i] == 1:\n",
    "                    fp += 1\n",
    "                else:\n",
    "                    fn += 1\n",
    "    ac = (tp + tn) / (tp + tn + fp + fn)\n",
    "    precision = tp / (tp + fp)\n",
    "    recall = tp / (tp + fn)\n",
    "    f1 = 2 * precision * recall / (precision + recall)\n",
    "    return [ac, precision, recall, f1]"
   ],
   "metadata": {
    "collapsed": false,
    "pycharm": {
     "name": "#%%\n"
    }
   }
  },
  {
   "cell_type": "code",
   "execution_count": 5,
   "outputs": [
    {
     "name": "stdout",
     "output_type": "stream",
     "text": [
      "training start...\n",
      "1th0:\t 0.7108801603317261\n",
      "acc:\t0.3809742765273312\n",
      "precision:\t0.24074835772617456\n",
      "recal:\t0.9618833365243474\n",
      "F1:\t0.3851084828372582\n",
      "1th10000:\t 0.028685368597507477\n",
      "acc:\t0.910524115755627\n",
      "precision:\t0.9389887905180642\n",
      "recal:\t0.949334636068539\n",
      "F1:\t0.9441333716123566\n",
      "1th20000:\t 0.0005651567480526865\n",
      "acc:\t0.9103086816720257\n",
      "precision:\t0.9262010303102911\n",
      "recal:\t0.9609934367541766\n",
      "F1:\t0.943276516306934\n",
      "1th30000:\t 0.01129944808781147\n",
      "acc:\t0.9135434083601286\n",
      "precision:\t0.9427423605897481\n",
      "recal:\t0.949522170023811\n",
      "F1:\t0.9461201195905706\n",
      "1th40000:\t 0.029319947585463524\n",
      "acc:\t0.9152090032154341\n",
      "precision:\t0.9451898885827243\n",
      "recal:\t0.9492840813379858\n",
      "F1:\t0.9472325609316845\n",
      "2th0:\t 0.0012707379646599293\n",
      "acc:\t0.9081318327974277\n",
      "precision:\t0.9111304570068527\n",
      "recal:\t0.9730589615097558\n",
      "F1:\t0.9410769931963529\n",
      "2th10000:\t 0.00021987242507748306\n",
      "acc:\t0.9107331189710611\n",
      "precision:\t0.9121211758175494\n",
      "recal:\t0.9754188321810021\n",
      "F1:\t0.9427086772766293\n",
      "2th20000:\t 4.019458629045403e-06\n",
      "acc:\t0.9125948553054662\n",
      "precision:\t0.9413761431252745\n",
      "recal:\t0.9496319989687109\n",
      "F1:\t0.9454860491373588\n",
      "2th30000:\t 0.0004232772334944457\n",
      "acc:\t0.9113601286173634\n",
      "precision:\t0.9143092184080636\n",
      "recal:\t0.9740112225233235\n",
      "F1:\t0.9432164375096554\n",
      "2th40000:\t 3.4235799830639735e-05\n",
      "acc:\t0.9105434083601286\n",
      "precision:\t0.9385093366132613\n",
      "recal:\t0.9497932807138787\n",
      "F1:\t0.94411759388891\n",
      "3th0:\t 0.0007342323078773916\n",
      "acc:\t0.9108102893890675\n",
      "precision:\t0.9130426101194041\n",
      "recal:\t0.9745820509978772\n",
      "F1:\t0.9428091907762346\n",
      "3th10000:\t 0.0001894903980428353\n",
      "acc:\t0.9042668810289389\n",
      "precision:\t0.9177159332782244\n",
      "recal:\t0.96163631494376\n",
      "F1:\t0.9391629153904154\n",
      "3th20000:\t 5.6399199820589274e-05\n",
      "acc:\t0.9125144694533762\n",
      "precision:\t0.941368156223793\n",
      "recal:\t0.9495436125903308\n",
      "F1:\t0.9454382108995234\n",
      "3th30000:\t 0.0011457614600658417\n",
      "acc:\t0.9112733118971061\n",
      "precision:\t0.9145970856145648\n",
      "recal:\t0.9736093693540502\n",
      "F1:\t0.943181069416532\n",
      "3th40000:\t 0.00012481043813750148\n",
      "acc:\t0.9108263665594856\n",
      "precision:\t0.9130472980528089\n",
      "recal:\t0.9745989931670056\n",
      "F1:\t0.9428196177802886\n",
      "4th0:\t 0.00013638706877827644\n",
      "acc:\t0.9104019292604502\n",
      "precision:\t0.9110469504378766\n",
      "recal:\t0.9760833105147865\n",
      "F1:\t0.9424444531655035\n",
      "4th10000:\t 8.990378410089761e-05\n",
      "acc:\t0.911887459807074\n",
      "precision:\t0.9400989565238227\n",
      "recal:\t0.9499507699260742\n",
      "F1:\t0.9449991871207818\n",
      "4th20000:\t 0.00021591525000985712\n",
      "acc:\t0.9095659163987139\n",
      "precision:\t0.9343596501737151\n",
      "recal:\t0.9524222404044598\n",
      "F1:\t0.943304486656144\n",
      "4th30000:\t 0.00016932541620917618\n",
      "acc:\t0.9122508038585209\n",
      "precision:\t0.9275753558136192\n",
      "recal:\t0.962084248022201\n",
      "F1:\t0.9445147018758057\n",
      "4th40000:\t 3.751783151528798e-05\n",
      "acc:\t0.9129163987138263\n",
      "precision:\t0.9354748536423683\n",
      "recal:\t0.9554410823024623\n",
      "F1:\t0.9453525560185232\n",
      "5th0:\t 6.925009802216664e-05\n",
      "acc:\t0.9118199356913184\n",
      "precision:\t0.911118831690048\n",
      "recal:\t0.9778547335667722\n",
      "F1:\t0.9433079200224915\n",
      "5th10000:\t 7.559200457762927e-05\n",
      "acc:\t0.9136591639871383\n",
      "precision:\t0.9391832529312163\n",
      "recal:\t0.9529055680261911\n",
      "F1:\t0.9459946501478249\n",
      "5th20000:\t 1.2289083315408789e-05\n",
      "acc:\t0.9136398713826367\n",
      "precision:\t0.9287174736035014\n",
      "recal:\t0.9627106014819721\n",
      "F1:\t0.9454085718583201\n",
      "5th30000:\t 0.00041003309888765216\n",
      "acc:\t0.9110996784565917\n",
      "precision:\t0.9131495613352022\n",
      "recal:\t0.9748517493786476\n",
      "F1:\t0.9429924039357676\n",
      "5th40000:\t 3.0692561267642304e-05\n",
      "acc:\t0.9123633440514469\n",
      "precision:\t0.9387374507815058\n",
      "recal:\t0.9517626433779915\n",
      "F1:\t0.9452051765074859\n",
      "Wall time: 35min 43s\n"
     ]
    }
   ],
   "source": [
    "# %%time\n",
    "loss_count = []\n",
    "acc_count = []\n",
    "if use_gpu:\n",
    "    net = net.cuda()\n",
    "    loss_func = loss_func.cuda()\n",
    "print(\"training start...\")\n",
    "for epoch in range(5):\n",
    "    for i, (x, y) in enumerate(train_loader):\n",
    "        batch_x = Variable(x)\n",
    "        batch_y = Variable(y)\n",
    "\n",
    "        out = net(batch_x)  #模型输出\n",
    "        loss = loss_func(out, batch_y)  #损失计算\n",
    "\n",
    "        opt.zero_grad()  #消除旧值\n",
    "        loss.backward()  #回传\n",
    "        opt.step()  #更新模型参数\n",
    "\n",
    "        if i % 5000 == 0:  #打点输出\n",
    "            # loss_count.append(loss)\n",
    "            print(\"{}th{}:\\t\".format(epoch + 1, i), loss.item())\n",
    "            acc = accuracy(net, test_loader)\n",
    "            acc_count.append(acc)\n",
    "            print(\"acc:\\t{}\\nprecision:\\t{}\\nrecal:\\t{}\\nF1:\\t{}\".format(*acc))\n",
    "\n",
    "    torch.save(net, r'kdd_cnn')  #存储模型"
   ],
   "metadata": {
    "collapsed": false,
    "pycharm": {
     "name": "#%%\n"
    }
   }
  },
  {
   "cell_type": "code",
   "execution_count": 6,
   "outputs": [
    {
     "data": {
      "text/plain": "<Figure size 432x288 with 1 Axes>",
      "image/png": "[encoded data removed]"
     },
     "metadata": {
      "needs_background": "light"
     },
     "output_type": "display_data"
    }
   ],
   "source": [
    "plt.figure('cnn_acc')\n",
    "acc_count = list(map(list, zip(*acc_count)))\n",
    "plt.plot(acc_count[0], 'r', label='acc')\n",
    "plt.plot(acc_count[1], 'b', label='precision')\n",
    "plt.plot(acc_count[2], 'g', label='recall')\n",
    "plt.plot(acc_count[3], 'y', label='f1')\n",
    "plt.legend()\n",
    "plt.show()"
   ],
   "metadata": {
    "collapsed": false,
    "pycharm": {
     "name": "#%%\n"
    }
   }
  },
  {
   "cell_type": "code",
   "execution_count": 7,
   "outputs": [
    {
     "name": "stdout",
     "output_type": "stream",
     "text": [
      "acc:\t0.9095434083601286\n",
      "precision:\t0.9131035529305587\n",
      "recal:\t0.9728879906392937\n",
      "F1:\t0.9420482121300763\n",
      "Wall time: 44.5 s\n"
     ]
    }
   ],
   "source": [
    "# %%time\n",
    "acc = accuracy(net, test_loader)\n",
    "acc_count.append(acc)\n",
    "print(\"acc:\\t{}\\nprecision:\\t{}\\nrecal:\\t{}\\nF1:\\t{}\".format(*acc))\n",
    "\n",
    "if __name__ == '__main__':\n",
    "    print('model training end...')"
   ],
   "metadata": {
    "collapsed": false,
    "pycharm": {
     "name": "#%%\n"
    }
   }
  }
 ],
 "metadata": {
  "kernelspec": {
   "name": "pycharm-3cdc4dc0",
   "language": "python",
   "display_name": "PyCharm (pylab)"
  },
  "language_info": {
   "codemirror_mode": {
    "name": "ipython",
    "version": 2
   },
   "file_extension": ".py",
   "mimetype": "text/x-python",
   "name": "python",
   "nbconvert_exporter": "python",
   "pygments_lexer": "ipython2",
   "version": "2.7.6"
  }
 },
 "nbformat": 4,
 "nbformat_minor": 0
}