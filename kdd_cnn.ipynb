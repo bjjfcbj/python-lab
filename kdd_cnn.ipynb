{
 "cells": [
  {
   "cell_type": "code",
   "execution_count": 1,
   "outputs": [],
   "source": [
    "import torch\n",
    "from torch.utils.data import DataLoader\n",
    "from torch.autograd import Variable\n",
    "import matplotlib.pyplot as plt\n",
    "from kdd_oh_set import ohkdd\n",
    "from cnn_model import CNet"
   ],
   "metadata": {
    "collapsed": false,
    "pycharm": {
     "name": "#%%\n"
    }
   }
  },
  {
   "cell_type": "code",
   "execution_count": 2,
   "outputs": [
    {
     "name": "stdout",
     "output_type": "stream",
     "text": [
      "use_gpu:True\n",
      "Wall time: 46.8 s\n"
     ]
    }
   ],
   "source": [
    "%%time\n",
    "use_gpu = torch.cuda.is_available()\n",
    "train_data = ohkdd(test_size=0, use_gpu=use_gpu, data_path='final_train.npy', tar_path='kdd99_oh_5_label.npy',\n",
    "                   return_type=2)\n",
    "# valid_data = train_data.get_valid()\n",
    "test_data = ohkdd(test_size=0, use_gpu=use_gpu, data_path='final_test.npy', tar_path='kdd99_oh_5_label_corrected.npy',\n",
    "                  return_type=2)\n",
    "\n",
    "train_loader = DataLoader(train_data, batch_size=32, shuffle=True, drop_last=True)\n",
    "# valid_loader = DataLoader(valid_data, batch_size=100, shuffle=True, drop_last=True)\n",
    "test_loader = DataLoader(test_data, batch_size=200, shuffle=True, drop_last=True)\n",
    "\n",
    "print(\"use_gpu:{}\".format(use_gpu))"
   ],
   "metadata": {
    "collapsed": false,
    "pycharm": {
     "name": "#%%\n"
    }
   }
  },
  {
   "cell_type": "code",
   "execution_count": 3,
   "outputs": [],
   "source": [
    "net = CNet()\n",
    "loss_func = torch.nn.CrossEntropyLoss()\n",
    "opt = torch.optim.Adam(net.parameters(), lr=1e-4)"
   ],
   "metadata": {
    "collapsed": false,
    "pycharm": {
     "name": "#%%\n"
    }
   }
  },
  {
   "cell_type": "code",
   "execution_count": 4,
   "outputs": [],
   "source": [
    "def accuracy(net, input_loader):\n",
    "    tp = tn = fp = fn = 0\n",
    "    for x, y in input_loader:\n",
    "        batch_x = Variable(x)\n",
    "        batch_y = Variable(y)\n",
    "        out = net(batch_x)\n",
    "        res = torch.max(out, 1)[1]\n",
    "\n",
    "        for i in range(0, len(batch_y)):\n",
    "            if res[i] == batch_y[i]:\n",
    "                if res[i] == 1:\n",
    "                    tp += 1\n",
    "                else:\n",
    "                    tn += 1\n",
    "            else:\n",
    "                if batch_y[i] == 1:\n",
    "                    fp += 1\n",
    "                else:\n",
    "                    fn += 1\n",
    "    ac = (tp + tn) / (tp + tn + fp + fn)\n",
    "    precision = tp / (tp + fp)\n",
    "    recall = tp / (tp + fn)\n",
    "    f1 = 2 * precision * recall / (precision + recall)\n",
    "    return [ac, precision, recall, f1]"
   ],
   "metadata": {
    "collapsed": false,
    "pycharm": {
     "name": "#%%\n"
    }
   }
  },
  {
   "cell_type": "code",
   "execution_count": 5,
   "outputs": [
    {
     "name": "stdout",
     "output_type": "stream",
     "text": [
      "training start...\n",
      "1th0:\t 0.6746222376823425\n",
      "acc:\t0.1995209003215434\n",
      "precision:\t0.014659723497887498\n",
      "recal:\t0.6246384209630764\n",
      "F1:\t0.028647123777268805\n",
      "1th10000:\t 0.0033406075090169907\n",
      "acc:\t0.9347588424437299\n",
      "precision:\t0.9236264745581317\n",
      "recal:\t0.9949882557409208\n",
      "F1:\t0.957980234763952\n",
      "1th20000:\t 0.0007103564566932619\n",
      "acc:\t0.9340353697749196\n",
      "precision:\t0.9225878848142868\n",
      "recal:\t0.9951326251949104\n",
      "F1:\t0.9574881209189943\n",
      "1th30000:\t 0.0011499951360747218\n",
      "acc:\t0.9330192926045016\n",
      "precision:\t0.9211898790792773\n",
      "recal:\t0.9952712352172168\n",
      "F1:\t0.9567987390731773\n",
      "1th40000:\t 0.07800094038248062\n",
      "acc:\t0.9324147909967846\n",
      "precision:\t0.9204554076665349\n",
      "recal:\t0.9952503087299326\n",
      "F1:\t0.9563927494828914\n",
      "2th0:\t 0.00038258859422057867\n",
      "acc:\t0.9343858520900321\n",
      "precision:\t0.922918721621654\n",
      "recal:\t0.9952457442089806\n",
      "F1:\t0.9577186381116564\n",
      "2th10000:\t 0.0017049494199454784\n",
      "acc:\t0.9315209003215434\n",
      "precision:\t0.9193299123455064\n",
      "recal:\t0.9952617699191562\n",
      "F1:\t0.9557901292231044\n",
      "2th20000:\t 0.006595544051378965\n",
      "acc:\t0.9346752411575563\n",
      "precision:\t0.9232996294166507\n",
      "recal:\t0.9952263707504369\n",
      "F1:\t0.9579147107931074\n",
      "2th30000:\t 0.010932449251413345\n",
      "acc:\t0.9351993569131832\n",
      "precision:\t0.9239302757422678\n",
      "recal:\t0.9952510001290489\n",
      "F1:\t0.9582654255153918\n",
      "2th40000:\t 0.005172401200979948\n",
      "acc:\t0.9293344051446946\n",
      "precision:\t0.9165069324643793\n",
      "recal:\t0.9953638047159951\n",
      "F1:\t0.9543091063695313\n",
      "3th0:\t 0.04663581773638725\n",
      "acc:\t0.9294244372990353\n",
      "precision:\t0.9166570158659164\n",
      "recal:\t0.9953213077790304\n",
      "F1:\t0.9543709241192355\n",
      "3th10000:\t 4.791150422533974e-05\n",
      "acc:\t0.9325209003215434\n",
      "precision:\t0.9205945425720116\n",
      "recal:\t0.9952423919284719\n",
      "F1:\t0.9564641938428347\n",
      "3th20000:\t 0.004383618012070656\n",
      "acc:\t0.9297556270096463\n",
      "precision:\t0.917075664213347\n",
      "recal:\t0.9953147686639939\n",
      "F1:\t0.9545947698562146\n",
      "3th30000:\t 0.0026914861518889666\n",
      "acc:\t0.9327106109324759\n",
      "precision:\t0.920782234007292\n",
      "recal:\t0.9952949098694661\n",
      "F1:\t0.9565897422600217\n",
      "3th40000:\t 0.008141374215483665\n",
      "acc:\t0.9312508038585209\n",
      "precision:\t0.9190177826231066\n",
      "recal:\t0.9952343060769084\n",
      "F1:\t0.95560875243175\n",
      "4th0:\t 0.0008229032391682267\n",
      "acc:\t0.9283858520900321\n",
      "precision:\t0.9153688262730816\n",
      "recal:\t0.9953148474611597\n",
      "F1:\t0.9536693030009278\n",
      "4th10000:\t 0.0003020417643710971\n",
      "acc:\t0.9303601286173634\n",
      "precision:\t0.9178237551564815\n",
      "recal:\t0.9953229543338458\n",
      "F1:\t0.9550036565502111\n",
      "4th20000:\t 0.016070164740085602\n",
      "acc:\t0.9305819935691318\n",
      "precision:\t0.9181462401661276\n",
      "recal:\t0.995272829592433\n",
      "F1:\t0.9551551156486607\n",
      "4th30000:\t 0.00035168786416761577\n",
      "acc:\t0.9301639871382636\n",
      "precision:\t0.9176057631639898\n",
      "recal:\t0.9952960744311758\n",
      "F1:\t0.9548732674131343\n",
      "4th40000:\t 0.012190532870590687\n",
      "acc:\t0.9301864951768489\n",
      "precision:\t0.9177049389815347\n",
      "recal:\t0.9952189578713969\n",
      "F1:\t0.954891466941462\n",
      "5th0:\t 0.008226176723837852\n",
      "acc:\t0.9296302250803858\n",
      "precision:\t0.9169452065188309\n",
      "recal:\t0.995288293989649\n",
      "F1:\t0.9545119150307099\n",
      "5th10000:\t 0.009412438608705997\n",
      "acc:\t0.9309131832797428\n",
      "precision:\t0.9186344159448591\n",
      "recal:\t0.995193576437709\n",
      "F1:\t0.9553826921559425\n",
      "5th20000:\t 0.06085712090134621\n",
      "acc:\t0.930459807073955\n",
      "precision:\t0.9179665348827922\n",
      "recal:\t0.9953020744480479\n",
      "F1:\t0.9550713287061947\n",
      "5th30000:\t 0.05085467919707298\n",
      "acc:\t0.9309067524115756\n",
      "precision:\t0.9186147739343646\n",
      "recal:\t0.9952064099125213\n",
      "F1:\t0.9553779830383174\n",
      "5th40000:\t 0.027994288131594658\n",
      "acc:\t0.9286173633440514\n",
      "precision:\t0.9156270466271584\n",
      "recal:\t0.9953463335011895\n",
      "F1:\t0.9538238817891375\n",
      "Wall time: 33min 57s\n"
     ]
    }
   ],
   "source": [
    "%%time\n",
    "loss_count = []\n",
    "acc_count = []\n",
    "if use_gpu:\n",
    "    net = net.cuda()\n",
    "    loss_func = loss_func.cuda()\n",
    "print(\"training start...\")\n",
    "for epoch in range(5):\n",
    "    for i, (x, y) in enumerate(train_loader):\n",
    "        batch_x = Variable(x)\n",
    "        batch_y = Variable(y)\n",
    "\n",
    "        out = net(batch_x)  #模型输出\n",
    "        loss = loss_func(out, batch_y)  #损失计算\n",
    "\n",
    "        opt.zero_grad()  #消除旧值\n",
    "        loss.backward()  #回传\n",
    "        opt.step()  #更新模型参数\n",
    "\n",
    "        if i % 10000 == 0:  #打点输出\n",
    "            # loss_count.append(loss)\n",
    "            print(\"{}th{}:\\t\".format(epoch + 1, i), loss.item())\n",
    "            acc = accuracy(net, test_loader)\n",
    "            acc_count.append(acc)\n",
    "            print(\"acc:\\t{}\\nprecision:\\t{}\\nrecal:\\t{}\\nF1:\\t{}\".format(*acc))\n",
    "\n",
    "    torch.save(net, r'kdd_cnn')  #存储模型"
   ],
   "metadata": {
    "collapsed": false,
    "pycharm": {
     "name": "#%%\n"
    }
   }
  },
  {
   "cell_type": "code",
   "execution_count": 6,
   "outputs": [
    {
     "data": {
      "text/plain": "<Figure size 432x288 with 1 Axes>",
      "image/png": "[encoded data removed]"
     },
     "metadata": {
      "needs_background": "light"
     },
     "output_type": "display_data"
    }
   ],
   "source": [
    "plt.figure('cnn_acc')\n",
    "acc_count = list(map(list, zip(*acc_count)))\n",
    "plt.plot(acc_count[0], 'r', label='acc')\n",
    "plt.plot(acc_count[1], 'b', label='precision')\n",
    "plt.plot(acc_count[2], 'g', label='recall')\n",
    "plt.plot(acc_count[3], 'y', label='f1')\n",
    "plt.legend()\n",
    "plt.ylim(0, 1.0)\n",
    "plt.show()"
   ],
   "metadata": {
    "collapsed": false,
    "pycharm": {
     "name": "#%%\n"
    }
   }
  },
  {
   "cell_type": "code",
   "execution_count": 7,
   "outputs": [
    {
     "name": "stdout",
     "output_type": "stream",
     "text": [
      "acc:\t0.9305016077170418\n",
      "precision:\t0.918051379121691\n",
      "recal:\t0.9952680910015802\n",
      "F1:\t0.955101599923556\n",
      "model training end...\n",
      "Wall time: 42.4 s\n"
     ]
    }
   ],
   "source": [
    "%%time\n",
    "acc = accuracy(net, test_loader)\n",
    "acc_count.append(acc)\n",
    "print(\"acc:\\t{}\\nprecision:\\t{}\\nrecal:\\t{}\\nF1:\\t{}\".format(*acc))\n",
    "\n",
    "if __name__ == '__main__':\n",
    "    print('model training end...')"
   ],
   "metadata": {
    "collapsed": false,
    "pycharm": {
     "name": "#%%\n"
    }
   }
  }
 ],
 "metadata": {
  "kernelspec": {
   "name": "pycharm-3cdc4dc0",
   "language": "python",
   "display_name": "PyCharm (pylab)"
  },
  "language_info": {
   "codemirror_mode": {
    "name": "ipython",
    "version": 2
   },
   "file_extension": ".py",
   "mimetype": "text/x-python",
   "name": "python",
   "nbconvert_exporter": "python",
   "pygments_lexer": "ipython2",
   "version": "2.7.6"
  }
 },
 "nbformat": 4,
 "nbformat_minor": 0
}