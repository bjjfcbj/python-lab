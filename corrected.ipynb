{
 "cells": [
  {
   "cell_type": "code",
   "execution_count": 1,
   "metadata": {
    "collapsed": true
   },
   "outputs": [],
   "source": [
    "import pandas as pd\n",
    "import numpy as np\n",
    "from sklearn import preprocessing as prep"
   ]
  },
  {
   "cell_type": "code",
   "execution_count": 6,
   "outputs": [],
   "source": [
    "labels = {'normal': 0, 'dos': 1, 'probe': 2, 'r2l': 3, 'u2r': 4}\n",
    "dos = ['back', 'land', 'neptune', 'pod', 'smurf', 'teardrop', 'apache2', 'mailbomb', 'processtable', 'udpstorm']\n",
    "u2r = ['buffer_overflow', 'loadmodule', 'perl', 'rootkit', 'httptunnel', 'ps', 'sqlattack', 'xterm']\n",
    "r2l = ['ftp_write', 'guess_passwd', 'imap', 'multihop', 'phf', 'spy', 'warezclient', 'warezmaster', 'named', 'sendmail',\n",
    "       'snmpgetattack', 'snmpguess', 'worm', 'xlock', 'xsnoop']\n",
    "probe = ['ipsweep', 'nmap', 'portsweep', 'satan', 'mscan', 'saint']\n"
   ],
   "metadata": {
    "collapsed": false,
    "pycharm": {
     "name": "#%%\n"
    }
   }
  },
  {
   "cell_type": "code",
   "execution_count": 7,
   "outputs": [
    {
     "name": "stdout",
     "output_type": "stream",
     "text": [
      "(311029,) ['normal.' 'normal.' 'normal.' ... 'normal.' 'normal.' 'normal.']\n"
     ]
    }
   ],
   "source": [
    "train = np.load(\"kdd99_oh_tar_corrected.npy\", allow_pickle=True)\n",
    "print(train.shape, train)\n",
    "\n",
    "for i in range(0, len(train)):\n",
    "    if train[i] == 'normal.':\n",
    "        train[i] = 0\n",
    "    else:\n",
    "        train[i] = 1\n",
    "# for i in range(0, len(test)):\n",
    "#     if test[i] == 'normal':\n",
    "#         test[i] = 0\n",
    "#     elif test[i] in dos:\n",
    "#         test[i] = labels['dos']\n",
    "#     elif test[i] in probe:\n",
    "#         test[i] = labels['probe']\n",
    "#     elif test[i] in r2l:\n",
    "#         test[i] = labels['r2l']\n",
    "#     else:\n",
    "#         test[i] = labels['u2r']\n",
    "# for i in range(0, len(train)):\n",
    "#     train[i] = labels[train[i]]\n",
    "np.save(\"kdd99_oh_label_corrected.npy\", train)"
   ],
   "metadata": {
    "collapsed": false,
    "pycharm": {
     "name": "#%%\n"
    }
   }
  },
  {
   "cell_type": "code",
   "execution_count": 8,
   "outputs": [
    {
     "name": "stdout",
     "output_type": "stream",
     "text": [
      "(311029,) [0 0 0 ... 0 0 0]\n"
     ]
    }
   ],
   "source": [
    "train = np.load(\"kdd99_oh_label_corrected.npy\", allow_pickle=True)\n",
    "print(train.shape, train)"
   ],
   "metadata": {
    "collapsed": false,
    "pycharm": {
     "name": "#%%\n"
    }
   }
  }
 ],
 "metadata": {
  "kernelspec": {
   "name": "pycharm-3cdc4dc0",
   "language": "python",
   "display_name": "PyCharm (pylab)"
  },
  "language_info": {
   "codemirror_mode": {
    "name": "ipython",
    "version": 2
   },
   "file_extension": ".py",
   "mimetype": "text/x-python",
   "name": "python",
   "nbconvert_exporter": "python",
   "pygments_lexer": "ipython2",
   "version": "2.7.6"
  }
 },
 "nbformat": 4,
 "nbformat_minor": 0
}