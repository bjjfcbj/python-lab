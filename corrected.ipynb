{
 "cells": [
  {
   "cell_type": "code",
   "execution_count": 1,
   "metadata": {
    "collapsed": true
   },
   "outputs": [],
   "source": [
    "import pandas as pd\n",
    "import numpy as np\n",
    "from sklearn import preprocessing as prep"
   ]
  },
  {
   "cell_type": "code",
   "execution_count": 2,
   "outputs": [],
   "source": [
    "labels = {'normal': 0, 'dos': 1, 'probe': 2, 'r2l': 3, 'u2r': 4}\n",
    "dos = ['back', 'land', 'neptune', 'pod', 'smurf', 'teardrop', 'apache2', 'mailbomb', 'processtable', 'udpstorm']\n",
    "u2r = ['buffer_overflow', 'loadmodule', 'perl', 'rootkit', 'httptunnel', 'ps', 'sqlattack', 'xterm']\n",
    "r2l = ['ftp_write', 'guess_passwd', 'imap', 'multihop', 'phf', 'spy', 'warezclient', 'warezmaster', 'named', 'sendmail',\n",
    "       'snmpgetattack', 'snmpguess', 'worm', 'xlock', 'xsnoop']\n",
    "probe = ['ipsweep', 'nmap', 'portsweep', 'satan', 'mscan', 'saint']\n"
   ],
   "metadata": {
    "collapsed": false,
    "pycharm": {
     "name": "#%%\n"
    }
   }
  },
  {
   "cell_type": "code",
   "execution_count": 3,
   "outputs": [
    {
     "name": "stdout",
     "output_type": "stream",
     "text": [
      "['normal' 'normal' 'normal' ... 'r2l' 'r2l' 'r2l']\n"
     ]
    }
   ],
   "source": [
    "train = np.load(\"kdd99_oh_tar.npy\", allow_pickle=True)\n",
    "print(train)\n",
    "\n",
    "for i in range(0, len(train)):\n",
    "    if train[i] == 'normal':\n",
    "        train[i] = labels['normal']\n",
    "    elif train[i] == 'dos':\n",
    "        train[i] = labels['dos']\n",
    "    elif train[i] == 'probe':\n",
    "        train[i] = labels['probe']\n",
    "    elif train[i] == 'r2l':\n",
    "        train[i] = labels['r2l']\n",
    "    elif train[i] == 'u2r':\n",
    "        train[i] = labels['u2r']\n",
    "    # elif train[i] in dos:\n",
    "    #     train[i] = labels['dos']\n",
    "    # elif train[i] in probe:\n",
    "    #     train[i] = labels['probe']\n",
    "    # elif train[i] in r2l:\n",
    "    #     train[i] = labels['r2l']\n",
    "    # elif train[i] in u2r:\n",
    "    #     train[i] = labels['u2r']\n",
    "np.save(\"kdd99_oh_5_label.npy\", train)"
   ],
   "metadata": {
    "collapsed": false,
    "pycharm": {
     "name": "#%%\n"
    }
   }
  },
  {
   "cell_type": "code",
   "execution_count": 4,
   "outputs": [
    {
     "data": {
      "text/plain": "0    812814\n1    247267\n3    127872\n2    110880\n4    106496\ndtype: int64"
     },
     "execution_count": 4,
     "metadata": {},
     "output_type": "execute_result"
    }
   ],
   "source": [
    "train = np.load(\"kdd99_oh_5_label.npy\", allow_pickle=True)\n",
    "pd.DataFrame(train).value_counts()"
   ],
   "metadata": {
    "collapsed": false,
    "pycharm": {
     "name": "#%%\n"
    }
   }
  }
 ],
 "metadata": {
  "kernelspec": {
   "name": "pycharm-3cdc4dc0",
   "language": "python",
   "display_name": "PyCharm (pylab)"
  },
  "language_info": {
   "codemirror_mode": {
    "name": "ipython",
    "version": 2
   },
   "file_extension": ".py",
   "mimetype": "text/x-python",
   "name": "python",
   "nbconvert_exporter": "python",
   "pygments_lexer": "ipython2",
   "version": "2.7.6"
  }
 },
 "nbformat": 4,
 "nbformat_minor": 0
}