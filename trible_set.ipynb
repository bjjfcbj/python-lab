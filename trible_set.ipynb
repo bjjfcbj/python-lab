{
 "cells": [
  {
   "cell_type": "code",
   "execution_count": 1,
   "outputs": [],
   "source": [
    "import torch\n",
    "import numpy as np\n",
    "from kdd_oh_set import ohkdd\n",
    "import net_hook"
   ],
   "metadata": {
    "collapsed": false,
    "pycharm": {
     "name": "#%%\n"
    }
   }
  },
  {
   "cell_type": "code",
   "execution_count": 2,
   "outputs": [
    {
     "name": "stdout",
     "output_type": "stream",
     "text": [
      "torch.Size([1405329, 1, 126])\n"
     ]
    }
   ],
   "source": [
    "train_data = ohkdd(test_size=0, data_path=\"kdd99_oh.npy\")\n",
    "data = torch.Tensor(np.array([np.array(x.cpu()) for x, y in train_data]))\n",
    "print(data.shape)"
   ],
   "metadata": {
    "collapsed": false,
    "pycharm": {
     "name": "#%%\n"
    }
   }
  },
  {
   "cell_type": "code",
   "execution_count": 3,
   "outputs": [
    {
     "name": "stdout",
     "output_type": "stream",
     "text": [
      "torch.Size([1405329, 378])\n"
     ]
    }
   ],
   "source": [
    "final_train = torch.cat([torch.squeeze(data), torch.squeeze(data), torch.squeeze(data)], dim=1)\n",
    "np.save(\"trible_train\", final_train.detach().numpy())\n",
    "print(final_train.shape)"
   ],
   "metadata": {
    "collapsed": false,
    "pycharm": {
     "name": "#%%\n"
    }
   }
  },
  {
   "cell_type": "code",
   "execution_count": 4,
   "outputs": [
    {
     "name": "stdout",
     "output_type": "stream",
     "text": [
      "(1405329, 378)\n",
      "(311029, 378)\n"
     ]
    }
   ],
   "source": [
    "train = np.load('trible_train.npy')\n",
    "test = np.load('trible_test.npy')\n",
    "print(train.shape)\n",
    "print(test.shape)\n"
   ],
   "metadata": {
    "collapsed": false,
    "pycharm": {
     "name": "#%%\n"
    }
   }
  }
 ],
 "metadata": {
  "kernelspec": {
   "name": "pycharm-3cdc4dc0",
   "language": "python",
   "display_name": "PyCharm (pylab)"
  },
  "language_info": {
   "codemirror_mode": {
    "name": "ipython",
    "version": 2
   },
   "file_extension": ".py",
   "mimetype": "text/x-python",
   "name": "python",
   "nbconvert_exporter": "python",
   "pygments_lexer": "ipython2",
   "version": "2.7.6"
  }
 },
 "nbformat": 4,
 "nbformat_minor": 0
}