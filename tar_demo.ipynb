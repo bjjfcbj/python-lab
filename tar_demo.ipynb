{
 "cells": [
  {
   "cell_type": "code",
   "execution_count": 1,
   "metadata": {
    "collapsed": true
   },
   "outputs": [],
   "source": [
    "import pandas as pd\n",
    "import numpy as np"
   ]
  },
  {
   "cell_type": "code",
   "execution_count": 21,
   "outputs": [],
   "source": [
    "train = np.load('kdd99_oh_tar.npy', allow_pickle=True)\n",
    "test = np.load('kdd99_oh_tar_corrected.npy', allow_pickle=True)"
   ],
   "metadata": {
    "collapsed": false,
    "pycharm": {
     "name": "#%%\n"
    }
   }
  },
  {
   "cell_type": "code",
   "execution_count": 22,
   "outputs": [
    {
     "data": {
      "text/plain": "smurf              164091\nnormal              60593\nneptune             58001\nsnmpgetattack        7741\nmailbomb             5000\nguess_passwd         4367\nsnmpguess            2406\nsatan                1633\nwarezmaster          1602\nback                 1098\nmscan                1053\napache2               794\nprocesstable          759\nsaint                 736\nportsweep             354\nipsweep               306\nhttptunnel            158\npod                    87\nnmap                   84\nbuffer_overflow        22\nmultihop               18\nnamed                  17\nsendmail               17\nps                     16\nxterm                  13\nrootkit                13\nteardrop               12\nland                    9\nxlock                   9\nxsnoop                  4\nftp_write               3\nworm                    2\nphf                     2\nudpstorm                2\nsqlattack               2\nperl                    2\nloadmodule              2\nimap                    1\ndtype: int64"
     },
     "execution_count": 22,
     "metadata": {},
     "output_type": "execute_result"
    }
   ],
   "source": [
    "for i in range(len(test)):\n",
    "    test[i]=test[i][:-1]\n",
    "pd.DataFrame(test).value_counts()"
   ],
   "metadata": {
    "collapsed": false,
    "pycharm": {
     "name": "#%%\n"
    }
   }
  },
  {
   "cell_type": "code",
   "execution_count": 24,
   "outputs": [],
   "source": [
    "np.save('kdd99_oh_tar_corrected',test)"
   ],
   "metadata": {
    "collapsed": false,
    "pycharm": {
     "name": "#%%\n"
    }
   }
  },
  {
   "cell_type": "code",
   "execution_count": 27,
   "outputs": [
    {
     "data": {
      "text/plain": "smurf              164091\nnormal              60593\nneptune             58001\nsnmpgetattack        7741\nmailbomb             5000\nguess_passwd         4367\nsnmpguess            2406\nsatan                1633\nwarezmaster          1602\nback                 1098\nmscan                1053\napache2               794\nprocesstable          759\nsaint                 736\nportsweep             354\nipsweep               306\nhttptunnel            158\npod                    87\nnmap                   84\nbuffer_overflow        22\nmultihop               18\nnamed                  17\nsendmail               17\nps                     16\nxterm                  13\nrootkit                13\nteardrop               12\nland                    9\nxlock                   9\nxsnoop                  4\nftp_write               3\nworm                    2\nphf                     2\nudpstorm                2\nsqlattack               2\nperl                    2\nloadmodule              2\nimap                    1\ndtype: int64"
     },
     "execution_count": 27,
     "metadata": {},
     "output_type": "execute_result"
    }
   ],
   "source": [
    "pd.DataFrame(np.load('kdd99_oh_tar_corrected.npy',allow_pickle=True)).value_counts()"
   ],
   "metadata": {
    "collapsed": false,
    "pycharm": {
     "name": "#%%\n"
    }
   }
  }
 ],
 "metadata": {
  "kernelspec": {
   "name": "pycharm-3cdc4dc0",
   "language": "python",
   "display_name": "PyCharm (pylab)"
  },
  "language_info": {
   "codemirror_mode": {
    "name": "ipython",
    "version": 2
   },
   "file_extension": ".py",
   "mimetype": "text/x-python",
   "name": "python",
   "nbconvert_exporter": "python",
   "pygments_lexer": "ipython2",
   "version": "2.7.6"
  }
 },
 "nbformat": 4,
 "nbformat_minor": 0
}