{
 "cells": [
  {
   "cell_type": "code",
   "execution_count": 1,
   "metadata": {
    "collapsed": true
   },
   "outputs": [],
   "source": [
    "import torch\n",
    "from torch.utils.data import DataLoader\n",
    "from torch.autograd import Variable\n",
    "import matplotlib.pyplot as plt\n",
    "from ae_model import AeNet\n",
    "from kdd_oh_set import ohkdd"
   ]
  },
  {
   "cell_type": "code",
   "execution_count": 2,
   "outputs": [
    {
     "name": "stdout",
     "output_type": "stream",
     "text": [
      "use_gpu:True\n"
     ]
    }
   ],
   "source": [
    "use_gpu = torch.cuda.is_available()\n",
    "train_data = ohkdd(use_gpu=use_gpu,test_size=0)\n",
    "train_loader = DataLoader(train_data, batch_size=32, shuffle=True, drop_last=True)\n",
    "print(\"use_gpu:{}\".format(use_gpu))"
   ],
   "metadata": {
    "collapsed": false,
    "pycharm": {
     "name": "#%%\n"
    }
   }
  },
  {
   "cell_type": "code",
   "execution_count": 3,
   "outputs": [],
   "source": [
    "net = AeNet(126, [100, 80, 60, 40, 20, 10, 1, 10, 20, 40, 60, 80, 100])\n",
    "loss_func = torch.nn.MSELoss()\n",
    "opt = torch.optim.Adam(net.parameters(), lr=1e-4)"
   ],
   "metadata": {
    "collapsed": false,
    "pycharm": {
     "name": "#%%\n"
    }
   }
  },
  {
   "cell_type": "code",
   "execution_count": null,
   "outputs": [
    {
     "name": "stdout",
     "output_type": "stream",
     "text": [
      "1th0:\t 0.13402718305587769\n",
      "1th5000:\t 0.03246915340423584\n"
     ]
    }
   ],
   "source": [
    "%%time\n",
    "loss_count = []\n",
    "if use_gpu:\n",
    "    net = net.cuda()\n",
    "    loss_func = loss_func.cuda()\n",
    "lable = torch.Tensor([1 for x in range(32)])\n",
    "if use_gpu:\n",
    "    lable = lable.cuda()\n",
    "for epoch in range(5):\n",
    "    for i, (x, _) in enumerate(train_loader):\n",
    "        batch_x = Variable(x)\n",
    "\n",
    "        out = net(batch_x)  #模型输出\n",
    "        # print(out.shape)\n",
    "        loss = loss_func(out, batch_x)  #损失计算\n",
    "\n",
    "        opt.zero_grad()  #消除旧值\n",
    "        loss.backward()  #回传\n",
    "        opt.step()  #更新模型参数\n",
    "\n",
    "        if i % 5000 == 0:  #打点输出\n",
    "            loss_count.append(loss)\n",
    "            print(\"{}th{}:\\t\".format(epoch + 1, i), loss.item())\n",
    "\n",
    "    torch.save(net, r'aenet_1key')  #存储模型"
   ],
   "metadata": {
    "collapsed": false,
    "pycharm": {
     "name": "#%%\n",
     "is_executing": true
    }
   }
  },
  {
   "cell_type": "code",
   "execution_count": null,
   "outputs": [],
   "source": [
    "plt.figure('aenet_loss')\n",
    "plt.plot(loss_count, label='LOSS')\n",
    "plt.legend()\n",
    "plt.show()"
   ],
   "metadata": {
    "collapsed": false,
    "pycharm": {
     "name": "#%%\n",
     "is_executing": true
    }
   }
  }
 ],
 "metadata": {
  "kernelspec": {
   "name": "pycharm-3cdc4dc0",
   "language": "python",
   "display_name": "PyCharm (pylab)"
  },
  "language_info": {
   "codemirror_mode": {
    "name": "ipython",
    "version": 2
   },
   "file_extension": ".py",
   "mimetype": "text/x-python",
   "name": "python",
   "nbconvert_exporter": "python",
   "pygments_lexer": "ipython2",
   "version": "2.7.6"
  }
 },
 "nbformat": 4,
 "nbformat_minor": 0
}