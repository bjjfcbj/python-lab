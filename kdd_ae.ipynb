{
 "cells": [
  {
   "cell_type": "code",
   "execution_count": 1,
   "metadata": {
    "collapsed": true
   },
   "outputs": [],
   "source": [
    "import torch\n",
    "from torch.utils.data import DataLoader\n",
    "from torch.autograd import Variable\n",
    "import matplotlib.pyplot as plt\n",
    "from ae_model import AeNet\n",
    "from kdd_oh_set import ohkdd"
   ]
  },
  {
   "cell_type": "code",
   "execution_count": 2,
   "outputs": [
    {
     "name": "stdout",
     "output_type": "stream",
     "text": [
      "use_gpu:True\n"
     ]
    }
   ],
   "source": [
    "use_gpu = torch.cuda.is_available()\n",
    "train_data = ohkdd(use_gpu=use_gpu,test_size=0)\n",
    "train_loader = DataLoader(train_data, batch_size=32, shuffle=True, drop_last=True)\n",
    "print(\"use_gpu:{}\".format(use_gpu))"
   ],
   "metadata": {
    "collapsed": false,
    "pycharm": {
     "name": "#%%\n"
    }
   }
  },
  {
   "cell_type": "code",
   "execution_count": 3,
   "outputs": [],
   "source": [
    "net = AeNet(126, [100, 80, 60, 40, 20, 10, 1, 10, 20, 40, 60, 80, 100])\n",
    "loss_func = torch.nn.MSELoss()\n",
    "opt = torch.optim.Adam(net.parameters(), lr=1e-4)"
   ],
   "metadata": {
    "collapsed": false,
    "pycharm": {
     "name": "#%%\n"
    }
   }
  },
  {
   "cell_type": "code",
   "execution_count": 4,
   "outputs": [
    {
     "name": "stdout",
     "output_type": "stream",
     "text": [
      "1th0:\t 0.14644311368465424\n",
      "1th10000:\t 0.013621124438941479\n",
      "1th20000:\t 0.012103158980607986\n",
      "1th30000:\t 0.008398504927754402\n",
      "1th40000:\t 0.010961543768644333\n",
      "2th0:\t 0.009168832562863827\n",
      "2th10000:\t 0.006057834252715111\n",
      "2th20000:\t 0.007153760176151991\n",
      "2th30000:\t 0.006998512428253889\n",
      "2th40000:\t 0.005660294089466333\n",
      "3th0:\t 0.008000307716429234\n",
      "3th10000:\t 0.006584084592759609\n",
      "3th20000:\t 0.008345366455614567\n",
      "3th30000:\t 0.01005604863166809\n",
      "3th40000:\t 0.0055359299294650555\n",
      "4th0:\t 0.008905993774533272\n",
      "4th10000:\t 0.008120376616716385\n",
      "4th20000:\t 0.006600051652640104\n",
      "4th30000:\t 0.006502622272819281\n",
      "4th40000:\t 0.006057984661310911\n",
      "5th0:\t 0.004388701636344194\n",
      "5th10000:\t 0.00608809432014823\n",
      "5th20000:\t 0.006153288763016462\n",
      "5th30000:\t 0.008211150765419006\n",
      "5th40000:\t 0.006580399349331856\n",
      "6th0:\t 0.007433505263179541\n",
      "6th10000:\t 0.005701784510165453\n",
      "6th20000:\t 0.00404653325676918\n",
      "6th30000:\t 0.005402507726103067\n",
      "6th40000:\t 0.007034721318632364\n",
      "Wall time: 22min 7s\n"
     ]
    }
   ],
   "source": [
    "%%time\n",
    "loss_count = []\n",
    "if use_gpu:\n",
    "    net = net.cuda()\n",
    "    loss_func = loss_func.cuda()\n",
    "\n",
    "for epoch in range(6):\n",
    "    for i, (x, _) in enumerate(train_loader):\n",
    "        batch_x = Variable(x)\n",
    "\n",
    "        out = net(batch_x)  #模型输出\n",
    "        # print(out.shape)\n",
    "        loss = loss_func(out, batch_x)  #损失计算\n",
    "\n",
    "        opt.zero_grad()  #消除旧值\n",
    "        loss.backward()  #回传\n",
    "        opt.step()  #更新模型参数\n",
    "\n",
    "        if i % 10000 == 0:  #打点输出\n",
    "            loss_count.append(loss)\n",
    "            print(\"{}th{}:\\t\".format(epoch + 1, i), loss.item())\n",
    "\n",
    "    torch.save(net, r'aenet_1key')  #存储模型"
   ],
   "metadata": {
    "collapsed": false,
    "pycharm": {
     "name": "#%%\n"
    }
   }
  },
  {
   "cell_type": "code",
   "execution_count": 5,
   "outputs": [
    {
     "data": {
      "text/plain": "<Figure size 432x288 with 1 Axes>",
      "image/png": "[encoded data removed]"
     },
     "metadata": {
      "needs_background": "light"
     },
     "output_type": "display_data"
    }
   ],
   "source": [
    "plt.figure('aenet_loss')\n",
    "plt.plot(loss_count, label='LOSS')\n",
    "plt.legend()\n",
    "plt.show()"
   ],
   "metadata": {
    "collapsed": false,
    "pycharm": {
     "name": "#%%\n"
    }
   }
  }
 ],
 "metadata": {
  "kernelspec": {
   "name": "pycharm-3cdc4dc0",
   "language": "python",
   "display_name": "PyCharm (pylab)"
  },
  "language_info": {
   "codemirror_mode": {
    "name": "ipython",
    "version": 2
   },
   "file_extension": ".py",
   "mimetype": "text/x-python",
   "name": "python",
   "nbconvert_exporter": "python",
   "pygments_lexer": "ipython2",
   "version": "2.7.6"
  }
 },
 "nbformat": 4,
 "nbformat_minor": 0
}