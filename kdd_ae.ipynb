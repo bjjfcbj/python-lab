{
 "cells": [
  {
   "cell_type": "code",
   "execution_count": 1,
   "metadata": {
    "collapsed": true
   },
   "outputs": [],
   "source": [
    "import torch\n",
    "from torch.utils.data import DataLoader\n",
    "from torch.autograd import Variable\n",
    "import matplotlib.pyplot as plt\n",
    "from ae_model import AeNet\n",
    "from kdd_oh_set import ohkdd"
   ]
  },
  {
   "cell_type": "code",
   "execution_count": 2,
   "outputs": [
    {
     "name": "stdout",
     "output_type": "stream",
     "text": [
      "use_gpu:True\n"
     ]
    }
   ],
   "source": [
    "use_gpu = torch.cuda.is_available()\n",
    "train_data = ohkdd(use_gpu=use_gpu,test_size=0)\n",
    "train_loader = DataLoader(train_data, batch_size=32, shuffle=True, drop_last=True)\n",
    "print(\"use_gpu:{}\".format(use_gpu))"
   ],
   "metadata": {
    "collapsed": false,
    "pycharm": {
     "name": "#%%\n"
    }
   }
  },
  {
   "cell_type": "code",
   "execution_count": 3,
   "outputs": [],
   "source": [
    "net = AeNet(126, [80, 40, 10, 40, 80])\n",
    "loss_func = torch.nn.MSELoss()\n",
    "opt = torch.optim.Adam(net.parameters(), lr=1e-4)"
   ],
   "metadata": {
    "collapsed": false,
    "pycharm": {
     "name": "#%%\n"
    }
   }
  },
  {
   "cell_type": "code",
   "execution_count": 4,
   "outputs": [
    {
     "name": "stdout",
     "output_type": "stream",
     "text": [
      "1th0:\t 0.17927518486976624\n",
      "1th10000:\t 0.008324186317622662\n",
      "1th20000:\t 0.004473803099244833\n",
      "1th30000:\t 0.004569115582853556\n",
      "1th40000:\t 0.003363572061061859\n",
      "2th0:\t 0.003423690563067794\n",
      "2th10000:\t 0.0031316494569182396\n",
      "2th20000:\t 0.0046767196618020535\n",
      "2th30000:\t 0.00391688896343112\n",
      "2th40000:\t 0.002343820407986641\n",
      "3th0:\t 0.0032593219075351954\n",
      "3th10000:\t 0.0026057488285005093\n",
      "3th20000:\t 0.0020278466399759054\n",
      "3th30000:\t 0.0029703821055591106\n",
      "3th40000:\t 0.0016125038964673877\n",
      "4th0:\t 0.0019125835970044136\n",
      "4th10000:\t 0.002140537602826953\n",
      "4th20000:\t 0.0013878759928047657\n",
      "4th30000:\t 0.0013825575588271022\n",
      "4th40000:\t 0.0036313775926828384\n",
      "5th0:\t 0.0015407903119921684\n",
      "5th10000:\t 0.001347021316178143\n",
      "5th20000:\t 0.001626542885787785\n",
      "5th30000:\t 0.0014698173617944121\n",
      "5th40000:\t 0.0020831217989325523\n",
      "6th0:\t 0.0008948897593654692\n",
      "6th10000:\t 0.0018385534640401602\n",
      "6th20000:\t 0.0010861351620405912\n",
      "6th30000:\t 0.0016582233365625143\n",
      "6th40000:\t 0.0017118010437116027\n",
      "7th0:\t 0.0012814666843041778\n",
      "7th10000:\t 0.0009768283925950527\n",
      "7th20000:\t 0.0004916804027743638\n",
      "7th30000:\t 0.0010284684831276536\n",
      "7th40000:\t 0.0021482135634869337\n",
      "8th0:\t 0.00029640525463037193\n",
      "8th10000:\t 0.001321390736848116\n",
      "8th20000:\t 0.00034500312176533043\n",
      "8th30000:\t 0.0008156197727657855\n",
      "8th40000:\t 0.0012635785387828946\n",
      "9th0:\t 0.0014479365199804306\n",
      "9th10000:\t 0.0020304054487496614\n",
      "9th20000:\t 0.00125183816999197\n",
      "9th30000:\t 0.0010174826020374894\n",
      "9th40000:\t 0.0017970349872484803\n",
      "10th0:\t 0.00028901619953103364\n",
      "10th10000:\t 0.0004961345694027841\n",
      "10th20000:\t 0.0010440582409501076\n",
      "10th30000:\t 0.0010785111226141453\n",
      "10th40000:\t 0.0011332887224853039\n",
      "Wall time: 17min 3s\n"
     ]
    }
   ],
   "source": [
    "%%time\n",
    "loss_count = []\n",
    "if use_gpu:\n",
    "    net = net.cuda()\n",
    "    loss_func = loss_func.cuda()\n",
    "\n",
    "for epoch in range(10):\n",
    "    for i, (x, _) in enumerate(train_loader):\n",
    "        batch_x = Variable(x)\n",
    "\n",
    "        out = net(batch_x)  #模型输出\n",
    "        # print(out.shape)\n",
    "        loss = loss_func(out, batch_x)  #损失计算\n",
    "\n",
    "        opt.zero_grad()  #消除旧值\n",
    "        loss.backward()  #回传\n",
    "        opt.step()  #更新模型参数\n",
    "\n",
    "        if i % 10000 == 0:  #打点输出\n",
    "            loss_count.append(loss)\n",
    "            print(\"{}th{}:\\t\".format(epoch + 1, i), loss.item())\n",
    "\n",
    "    torch.save(net, r'aenet_10key')  #存储模型"
   ],
   "metadata": {
    "collapsed": false,
    "pycharm": {
     "name": "#%%\n"
    }
   }
  },
  {
   "cell_type": "code",
   "execution_count": 5,
   "outputs": [
    {
     "data": {
      "text/plain": "<Figure size 432x288 with 1 Axes>",
      "image/png": "[encoded data removed]"
     },
     "metadata": {
      "needs_background": "light"
     },
     "output_type": "display_data"
    }
   ],
   "source": [
    "plt.figure('aenet_loss')\n",
    "plt.plot(loss_count, label='LOSS')\n",
    "plt.legend()\n",
    "plt.show()"
   ],
   "metadata": {
    "collapsed": false,
    "pycharm": {
     "name": "#%%\n"
    }
   }
  }
 ],
 "metadata": {
  "kernelspec": {
   "name": "pycharm-3cdc4dc0",
   "language": "python",
   "display_name": "PyCharm (pylab)"
  },
  "language_info": {
   "codemirror_mode": {
    "name": "ipython",
    "version": 2
   },
   "file_extension": ".py",
   "mimetype": "text/x-python",
   "name": "python",
   "nbconvert_exporter": "python",
   "pygments_lexer": "ipython2",
   "version": "2.7.6"
  }
 },
 "nbformat": 4,
 "nbformat_minor": 0
}