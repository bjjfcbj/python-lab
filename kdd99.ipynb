{
 "cells": [
  {
   "cell_type": "code",
   "execution_count": 1,
   "metadata": {
    "pycharm": {
     "name": "#%%\n"
    }
   },
   "outputs": [],
   "source": [
    "import numpy as np\n",
    "import pandas as pd\n",
    "from sklearn import preprocessing as prep\n",
    "from sklearn.model_selection import train_test_split"
   ]
  },
  {
   "cell_type": "code",
   "execution_count": 2,
   "metadata": {
    "pycharm": {
     "name": "#%%\n"
    }
   },
   "outputs": [
    {
     "name": "stdout",
     "output_type": "stream",
     "text": [
      "1074992\n"
     ]
    }
   ],
   "source": [
    "train_data = pd.read_csv('C:\\\\Users\\Administrator\\Downloads\\data\\kdd99\\kdddata_nodup.csv')\n",
    "test_data = pd.read_csv('C:\\\\Users\\Administrator\\Downloads\\data\\kdd99\\corrected', header=None)\n",
    "print(len(train_data))\n",
    "test_data.columns = train_data.columns\n",
    "\n",
    "obj_col = ['protocol_type', 'service', 'flag', 'land', 'logged_in', 'is_host_login', 'is_guest_login']\n",
    "dos = ['back', 'land', 'neptune', 'pod', 'smurf', 'teardrop']\n",
    "u2r = ['buffer_overflow', 'loadmodule', 'perl', 'rootkit']\n",
    "r2l = ['ftp_write', 'guess_passwd', 'imap', 'multihop', 'phf', 'spy', 'warezclient', 'warezmaster']\n",
    "probe = ['ipsweep', 'nmap', 'portsweep', 'satan']\n",
    "\n",
    "x_train_obj = train_data[obj_col].astype('object', copy=False)\n",
    "x_test_obj = test_data[obj_col].astype('object', copy=False)\n",
    "x_train_fi = train_data.drop(columns=obj_col)\n",
    "x_test_fi = test_data.drop(columns=obj_col)"
   ]
  },
  {
   "cell_type": "code",
   "execution_count": 3,
   "metadata": {
    "pycharm": {
     "name": "#%%"
    }
   },
   "outputs": [],
   "source": [
    "# ohe = prep.LabelEncoder()\n",
    "# for i in x_train_obj.columns:\n",
    "#     x_train_obj[i] = ohe.fit_transform(x_train_obj[i])\n",
    "# x_train = pd.concat([x_train_obj, x_train_fi], axis=1)\n",
    "# x_train_obj\n",
    "\n",
    "ohe = prep.OneHotEncoder(handle_unknown='ignore')\n",
    "x_train_obj = pd.DataFrame(ohe.fit_transform(x_train_obj).toarray())\n",
    "x_test_obj = pd.DataFrame(ohe.transform(x_test_obj).toarray())\n",
    "x_train = pd.concat([x_train_obj, x_train_fi], axis=1)\n",
    "x_test = pd.concat([x_test_obj, x_test_fi], axis=1)"
   ]
  },
  {
   "cell_type": "code",
   "execution_count": 4,
   "metadata": {
    "pycharm": {
     "name": "#%%\n"
    }
   },
   "outputs": [],
   "source": [
    "def func(s):\n",
    "    if s in dos:\n",
    "        return 'dos'\n",
    "    elif s in u2r:\n",
    "        return 'u2r'\n",
    "    elif s in r2l:\n",
    "        return 'r2l'\n",
    "    elif s in probe:\n",
    "        return 'probe'\n",
    "    else:\n",
    "        return s\n",
    "\n",
    "\n",
    "x_train['class'] = x_train['class'].apply(func)\n",
    "x_train['class'].value_counts()\n",
    "\n",
    "x_train_nor = x_train[x_train['class'] == 'normal']\n",
    "x_train_dos = x_train[x_train['class'] == 'dos']\n",
    "x_train_pro = x_train[x_train['class'] == 'probe']\n",
    "x_train_r2l = x_train[x_train['class'] == 'r2l']\n",
    "x_train_u2r = x_train[x_train['class'] == 'u2r']"
   ]
  },
  {
   "cell_type": "code",
   "execution_count": 5,
   "outputs": [
    {
     "name": "stdout",
     "output_type": "stream",
     "text": [
      "(1074992, 127)\n",
      "(311029, 127)\n"
     ]
    },
    {
     "data": {
      "text/plain": "smurf.              164091\nnormal.              60593\nneptune.             58001\nsnmpgetattack.        7741\nmailbomb.             5000\nguess_passwd.         4367\nsnmpguess.            2406\nsatan.                1633\nwarezmaster.          1602\nback.                 1098\nmscan.                1053\napache2.               794\nprocesstable.          759\nsaint.                 736\nportsweep.             354\nipsweep.               306\nhttptunnel.            158\npod.                    87\nnmap.                   84\nbuffer_overflow.        22\nmultihop.               18\nnamed.                  17\nsendmail.               17\nps.                     16\nrootkit.                13\nxterm.                  13\nteardrop.               12\nxlock.                   9\nland.                    9\nxsnoop.                  4\nftp_write.               3\nsqlattack.               2\nperl.                    2\nworm.                    2\nloadmodule.              2\nudpstorm.                2\nphf.                     2\nimap.                    1\nName: class, dtype: int64"
     },
     "execution_count": 5,
     "metadata": {},
     "output_type": "execute_result"
    }
   ],
   "source": [
    "print(x_train.shape)\n",
    "x_train[\"class\"].value_counts()\n",
    "print(x_test.shape)\n",
    "x_test[\"class\"].value_counts()"
   ],
   "metadata": {
    "collapsed": false,
    "pycharm": {
     "name": "#%%\n"
    }
   }
  },
  {
   "cell_type": "code",
   "execution_count": 6,
   "outputs": [],
   "source": [
    "def mk_dup(s):\n",
    "    while s.index.size < 100000:\n",
    "        s = s.append(s)\n",
    "    return s\n",
    "\n",
    "\n",
    "x_train_pro = mk_dup(x_train_pro)\n",
    "x_train_r2l = mk_dup(x_train_r2l)\n",
    "x_train_u2r = mk_dup(x_train_u2r)"
   ],
   "metadata": {
    "collapsed": false,
    "pycharm": {
     "name": "#%%\n"
    }
   }
  },
  {
   "cell_type": "code",
   "execution_count": 7,
   "metadata": {
    "pycharm": {
     "name": "#%%\n"
    }
   },
   "outputs": [
    {
     "name": "stdout",
     "output_type": "stream",
     "text": [
      "(1405329,) normal    812814\n",
      "dos       247267\n",
      "r2l       127872\n",
      "probe     110880\n",
      "u2r       106496\n",
      "Name: class, dtype: int64\n",
      "(311029,) smurf.              164091\n",
      "normal.              60593\n",
      "neptune.             58001\n",
      "snmpgetattack.        7741\n",
      "mailbomb.             5000\n",
      "guess_passwd.         4367\n",
      "snmpguess.            2406\n",
      "satan.                1633\n",
      "warezmaster.          1602\n",
      "back.                 1098\n",
      "mscan.                1053\n",
      "apache2.               794\n",
      "processtable.          759\n",
      "saint.                 736\n",
      "portsweep.             354\n",
      "ipsweep.               306\n",
      "httptunnel.            158\n",
      "pod.                    87\n",
      "nmap.                   84\n",
      "buffer_overflow.        22\n",
      "multihop.               18\n",
      "named.                  17\n",
      "sendmail.               17\n",
      "ps.                     16\n",
      "rootkit.                13\n",
      "xterm.                  13\n",
      "teardrop.               12\n",
      "xlock.                   9\n",
      "land.                    9\n",
      "xsnoop.                  4\n",
      "ftp_write.               3\n",
      "sqlattack.               2\n",
      "perl.                    2\n",
      "worm.                    2\n",
      "loadmodule.              2\n",
      "udpstorm.                2\n",
      "phf.                     2\n",
      "imap.                    1\n",
      "Name: class, dtype: int64\n"
     ]
    }
   ],
   "source": [
    "x_train = pd.concat([x_train_nor, x_train_dos, x_train_pro, x_train_u2r, x_train_r2l])\n",
    "y_train = x_train['class']\n",
    "x_train = x_train.drop(columns=[\"class\"])\n",
    "y_test = x_test['class']\n",
    "x_test = x_test.drop(columns=[\"class\"])\n",
    "print(y_train.shape, y_train.value_counts())\n",
    "print(y_test.shape, y_test.value_counts())"
   ]
  },
  {
   "cell_type": "code",
   "execution_count": 8,
   "outputs": [
    {
     "name": "stdout",
     "output_type": "stream",
     "text": [
      "(1405329, 126) (311029, 126)\n"
     ]
    }
   ],
   "source": [
    "np.save(\"kdd99_oh\", x_train)\n",
    "np.save(\"kdd99_oh_tar\", y_train)\n",
    "np.save(\"kdd99_oh_corrected\", x_test)\n",
    "np.save(\"kdd99_oh_tar_corrected\", y_test)\n",
    "print(x_train.shape,x_test.shape)"
   ],
   "metadata": {
    "collapsed": false,
    "pycharm": {
     "name": "#%%\n"
    }
   }
  }
 ],
 "metadata": {
  "kernelspec": {
   "display_name": "PyCharm (pylab)",
   "language": "python",
   "name": "pycharm-3cdc4dc0"
  },
  "language_info": {
   "codemirror_mode": {
    "name": "ipython",
    "version": 3
   },
   "file_extension": ".py",
   "mimetype": "text/x-python",
   "name": "python",
   "nbconvert_exporter": "python",
   "pygments_lexer": "ipython3",
   "version": "3.8.11"
  }
 },
 "nbformat": 4,
 "nbformat_minor": 1
}