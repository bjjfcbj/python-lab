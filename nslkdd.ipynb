{
 "cells": [
  {
   "cell_type": "code",
   "execution_count": 11,
   "metadata": {
    "collapsed": true
   },
   "outputs": [],
   "source": [
    "import numpy as np\n",
    "import pandas as pd\n",
    "from scipy.io import arff\n",
    "from sklearn import preprocessing as prep\n",
    "from sklearn.model_selection import train_test_split\n",
    "from sklearn.metrics import mean_absolute_error\n",
    "# from sklearn.ensemble import ExtraTreesRegressor\n",
    "from xgboost import XGBRFClassifier"
   ]
  },
  {
   "cell_type": "code",
   "execution_count": 2,
   "outputs": [],
   "source": [
    "arff_train,arff_train_meta=arff.loadarff('C:\\\\Users\\Administrator\\Downloads\\data\\\\nslkdd\\KDDTrain+.arff')\n",
    "arff_test,_=arff.loadarff('C:\\\\Users\\Administrator\\Downloads\\data\\\\nslkdd\\KDDTest+.arff')\n",
    "\n",
    "nslkdd_train_data=pd.DataFrame(data=arff_train,columns=arff_train.dtype.names)\n",
    "test_data=pd.DataFrame(data=arff_test,columns=arff_test.dtype.names)\n",
    "nslkdd_train_y=nslkdd_train_data['class']\n",
    "nslkdd_train_x=nslkdd_train_data.drop(['class'],axis=1)\n",
    "y_test=test_data['class']\n",
    "x_test=test_data.drop(['class'],axis=1)"
   ],
   "metadata": {
    "collapsed": false,
    "pycharm": {
     "name": "#%%\n"
    }
   }
  },
  {
   "cell_type": "code",
   "execution_count": 3,
   "outputs": [],
   "source": [
    "x_train,x_valid,y_train,y_valid=train_test_split(nslkdd_train_x,nslkdd_train_y,train_size=0.7,random_state=0)"
   ],
   "metadata": {
    "collapsed": false,
    "pycharm": {
     "name": "#%%\n"
    }
   }
  },
  {
   "cell_type": "code",
   "execution_count": 4,
   "outputs": [],
   "source": [
    "col=(nslkdd_train_x.dtypes==object)\n",
    "object_col=list(col[col].index)\n",
    "col=(nslkdd_train_x.dtypes==float)\n",
    "float_col=list(col[col].index)"
   ],
   "metadata": {
    "collapsed": false,
    "pycharm": {
     "name": "#%%\n"
    }
   }
  },
  {
   "cell_type": "code",
   "execution_count": 5,
   "outputs": [],
   "source": [
    "ohe=prep.OneHotEncoder(handle_unknown='ignore',sparse=False)\n",
    "ohe_col_train=pd.DataFrame(ohe.fit_transform(x_train[object_col]))\n",
    "ohe_col_valid=pd.DataFrame(ohe.transform(x_valid[object_col]))\n",
    "ohe_col_test=pd.DataFrame(ohe.transform(x_test[object_col]))\n",
    "\n",
    "ohe_col_train.index=x_train.index\n",
    "ohe_col_valid.index=x_valid.index\n",
    "ohe_col_test.index=x_test.index\n",
    "\n",
    "ohe_train_x=pd.concat([x_train[float_col],ohe_col_train],axis=1)\n",
    "ohe_valid_x=pd.concat([x_valid[float_col],ohe_col_valid],axis=1)\n",
    "x_test=pd.concat([x_test[float_col],ohe_col_test],axis=1)"
   ],
   "metadata": {
    "collapsed": false,
    "pycharm": {
     "name": "#%%\n"
    }
   }
  },
  {
   "cell_type": "code",
   "execution_count": 6,
   "outputs": [],
   "source": [
    "ylab=prep.LabelEncoder()\n",
    "\n",
    "y_train=ylab.fit_transform(y_train)\n",
    "y_valid=ylab.transform(y_valid)\n",
    "y_test=ylab.transform(y_test)"
   ],
   "metadata": {
    "collapsed": false,
    "pycharm": {
     "name": "#%%\n"
    }
   }
  },
  {
   "cell_type": "code",
   "execution_count": 16,
   "outputs": [
    {
     "name": "stderr",
     "output_type": "stream",
     "text": [
      "C:\\ProgramData\\Anaconda3\\envs\\pytorch\\lib\\site-packages\\xgboost\\sklearn.py:888: UserWarning: The use of label encoder in XGBClassifier is deprecated and will be removed in a future release. To remove this warning, do the following: 1) Pass option use_label_encoder=False when constructing XGBClassifier object; and 2) Encode your labels (y) as integers starting with 0, i.e. 0, 1, 2, ..., [num_class - 1].\n",
      "  warnings.warn(label_encoder_deprecation_msg, UserWarning)\n"
     ]
    },
    {
     "name": "stdout",
     "output_type": "stream",
     "text": [
      "[15:07:21] WARNING: ..\\src\\learner.cc:1061: Starting in XGBoost 1.3.0, the default evaluation metric used with the objective 'binary:logistic' was changed from 'error' to 'logloss'. Explicitly set eval_metric if you'd like to restore the old behavior.\n",
      "valid mean abs error: 0.0070385266723116\n",
      "True     37526\n",
      "False      266\n",
      "dtype: int64\n",
      "\n",
      "test mean abs error: 0.20830376153300212\n",
      "True     17848\n",
      "False     4696\n",
      "dtype: int64\n"
     ]
    }
   ],
   "source": [
    "model=XGBRFClassifier(n_estimators=100,learning_rate=0.04)\n",
    "model.fit(ohe_train_x,y_train)\n",
    "\n",
    "predictions=model.predict(ohe_valid_x)\n",
    "print(\"valid mean abs error: \"+str(mean_absolute_error(predictions,y_valid)))\n",
    "print(pd.Series(predictions==y_valid).value_counts())\n",
    "print()\n",
    "\n",
    "predictions=model.predict(x_test)\n",
    "print(\"test mean abs error: \"+str(mean_absolute_error(predictions,y_test)))\n",
    "print(pd.Series(predictions==y_test).value_counts())"
   ],
   "metadata": {
    "collapsed": false,
    "pycharm": {
     "name": "#%%\n"
    }
   }
  },
  {
   "cell_type": "code",
   "execution_count": null,
   "outputs": [],
   "source": [],
   "metadata": {
    "collapsed": false,
    "pycharm": {
     "name": "#%%"
    }
   }
  }
 ],
 "metadata": {
  "kernelspec": {
   "name": "pycharm-3cdc4dc0",
   "language": "python",
   "display_name": "PyCharm (pylab)"
  },
  "language_info": {
   "codemirror_mode": {
    "name": "ipython",
    "version": 2
   },
   "file_extension": ".py",
   "mimetype": "text/x-python",
   "name": "python",
   "nbconvert_exporter": "python",
   "pygments_lexer": "ipython2",
   "version": "2.7.6"
  }
 },
 "nbformat": 4,
 "nbformat_minor": 0
}